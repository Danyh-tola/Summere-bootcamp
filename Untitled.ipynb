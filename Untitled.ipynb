{
 "cells": [
  {
   "cell_type": "code",
   "execution_count": null,
   "id": "d2a94fd0-0b64-48ce-aeae-cb1339133c94",
   "metadata": {},
   "outputs": [],
   "source": [
    "# Install if needed\n",
    "!pip install pandas scikit-learn matplotlib seaborn\n",
    "\n",
    "# Import libraries\n",
    "import pandas as pd\n",
    "import numpy as np\n",
    "import seaborn as sns\n",
    "import matplotlib.pyplot as plt\n",
    "\n",
    "from sklearn.model_selection import train_test_split, cross_val_score\n",
    "from sklearn.preprocessing import LabelEncoder, StandardScaler\n",
    "from sklearn.linear_model import LogisticRegression\n",
    "from sklearn.metrics import classification_report, confusion_matrix, roc_auc_score\n"
   ]
  },
  {
   "cell_type": "code",
   "execution_count": null,
   "id": "c7b34980-9218-4719-aeea-c72d9de542f1",
   "metadata": {},
   "outputs": [],
   "source": [
    "from tkinter.filedialog import askopenfilename\n",
    "import pandas as pd\n",
    "\n",
    "file_path = askopenfilename()\n",
    "df = pd.read_csv(file_path, sep=\"\\t\")"
   ]
  },
  {
   "cell_type": "code",
   "execution_count": null,
   "id": "43fb7b05-fdc0-4451-9451-9e096304f8c7",
   "metadata": {},
   "outputs": [],
   "source": [
    "print(df.columns.tolist())"
   ]
  },
  {
   "cell_type": "code",
   "execution_count": null,
   "id": "7924ddaf-4694-4213-a4bb-a8afc62e8474",
   "metadata": {},
   "outputs": [],
   "source": [
    "from pathlib import Path\n",
    "\n",
    "# This gets the actual Desktop path regardless of your username\n",
    "desktop = Path.home() / \"Desktop\"\n",
    "print(os.listdir(desktop))\n"
   ]
  },
  {
   "cell_type": "code",
   "execution_count": null,
   "id": "901d3bf6-9f21-4e0d-afce-c6f1477ec5c1",
   "metadata": {},
   "outputs": [],
   "source": [
    "project_folder = desktop / \"data-science-summer-2025-main\"\n",
    "print(os.listdir(project_folder))"
   ]
  },
  {
   "cell_type": "code",
   "execution_count": null,
   "id": "6de43b49-4078-4998-80c3-5398e7123dc0",
   "metadata": {},
   "outputs": [],
   "source": [
    "final_path = project_folder / \"ICPSR_38872\" / \"DS0001\" / \"38872-0001-Data.tsv\"\n",
    "df = pd.read_csv(final_path, sep=\"\\t\")\n",
    "print(df.shape)\n",
    "df.head()"
   ]
  },
  {
   "cell_type": "code",
   "execution_count": null,
   "id": "74fb8cd4-05fd-4a09-85ea-f91d2b652264",
   "metadata": {},
   "outputs": [],
   "source": [
    "print(df.columns.tolist())"
   ]
  },
  {
   "cell_type": "code",
   "execution_count": null,
   "id": "9b32c7e7-c08d-402b-8837-c52418523a36",
   "metadata": {},
   "outputs": [],
   "source": [
    "# Replace these with your real column codes\n",
    "df = df.rename(columns={\n",
    "    'V3040': 'police_proper_behavior',\n",
    "    'V1001': 'age',\n",
    "    'V1002': 'gender',\n",
    "    'V1003': 'race',\n",
    "    'V1005': 'income'\n",
    "})"
   ]
  },
  {
   "cell_type": "code",
   "execution_count": null,
   "id": "fa8fd4e2-eda6-4ebb-8c10-da0a7bb9dcac",
   "metadata": {},
   "outputs": [],
   "source": [
    "[col for col in df.columns if 'police' in col.lower() or 'behavior' in col.lower()]"
   ]
  },
  {
   "cell_type": "code",
   "execution_count": null,
   "id": "b66bea0a-96b3-41be-9099-5ebd6742ba9d",
   "metadata": {},
   "outputs": [],
   "source": [
    "print(df.columns[:30].tolist())"
   ]
  },
  {
   "cell_type": "code",
   "execution_count": null,
   "id": "22819246-ee0c-4dda-965c-2d3c5f8a513f",
   "metadata": {},
   "outputs": [],
   "source": [
    "['SCRMCTRL', 'PPCSWGT', 'SEQNUM', 'SEX', 'AGE', 'INTTYPE', 'NONINT', 'HISP', 'MODE', 'PSSTRATA', 'SECUCODE', 'INCOME', 'V10A', 'V10B', 'V10C', 'V10D', 'V10E', 'V10F', 'V10G', 'V10H', 'V10I', 'V10J', 'V10K', 'V10L', 'V10M', 'V10N', 'V22A', 'V22B', 'V22C', 'V22D']"
   ]
  },
  {
   "cell_type": "code",
   "execution_count": null,
   "id": "57612001-ce9f-4e12-baeb-ae7707df1290",
   "metadata": {},
   "outputs": [],
   "source": [
    "df[['V10A', 'V10B', 'V10C', 'V10D', 'V10E', 'V10F', 'V10G', 'V10H', 'V10I', 'V10J', 'V10K', 'V10L', 'V10M', 'V10N']].sample(10)"
   ]
  },
  {
   "cell_type": "code",
   "execution_count": null,
   "id": "90d4c72c-8c17-4e23-9d4a-c74f0caab522",
   "metadata": {},
   "outputs": [],
   "source": [
    "df = df.rename(columns={'V10D': 'police_proper_behavior'})\n",
    "df = df[df['police_proper_behavior'].isin([1, 2])]  # clean unknowns\n",
    "df['police_proper_behavior'] = df['police_proper_behavior'].map({1: 1, 2: 0})  # 1 = Yes, 2 = No\n"
   ]
  },
  {
   "cell_type": "code",
   "execution_count": null,
   "id": "4ddd4b1f-8781-40c8-8b89-eb246083077b",
   "metadata": {},
   "outputs": [],
   "source": [
    "df = df.dropna(subset=['AGE', 'SEX', 'INCOME'])\n",
    "\n",
    "# Encode categorical features\n",
    "df = pd.get_dummies(df, columns=['SEX', 'INCOME', 'HISP'], drop_first=True)\n",
    "\n",
    "# Define features + target\n",
    "X = df.drop(columns=['police_proper_behavior'])\n",
    "y = df['police_proper_behavior']\n"
   ]
  },
  {
   "cell_type": "code",
   "execution_count": null,
   "id": "da25e8db-072b-4b50-849a-1e3f915b46c4",
   "metadata": {},
   "outputs": [],
   "source": [
    "print(df['police_proper_behavior'].value_counts())\n"
   ]
  },
  {
   "cell_type": "code",
   "execution_count": null,
   "id": "d375d8bf-bec4-4e90-bdbf-97c425cefdc9",
   "metadata": {},
   "outputs": [],
   "source": [
    "[col for col in df.columns if col.startswith('V10')]"
   ]
  },
  {
   "cell_type": "code",
   "execution_count": null,
   "id": "32a9bc55-19ca-4927-af99-1eca296fdf41",
   "metadata": {},
   "outputs": [],
   "source": [
    "['V10A', 'V10B', 'V10C', 'V10E', 'V10F', 'V10G', 'V10H', 'V10I', 'V10J', 'V10K', 'V10L', 'V10M', 'V10N']\n"
   ]
  },
  {
   "cell_type": "code",
   "execution_count": null,
   "id": "88c102da-c6d0-49ee-bf2e-cc2104940127",
   "metadata": {},
   "outputs": [],
   "source": [
    "df[['V10A', 'V10B', 'V10C', 'V10E', 'V10F']].sample(10)"
   ]
  },
  {
   "cell_type": "code",
   "execution_count": null,
   "id": "12db6a67-c710-46b9-afff-9a014d787030",
   "metadata": {},
   "outputs": [],
   "source": [
    "for col in ['V10A', 'V10B', 'V10C', 'V10E', 'V10F']:\n",
    "    print(f\"{col} value counts:\")\n",
    "    print(df[col].value_counts(dropna=False))\n",
    "    print(\"-----\")"
   ]
  },
  {
   "cell_type": "code",
   "execution_count": 189,
   "id": "e793271d-a40e-48b6-888e-73cafe80c974",
   "metadata": {},
   "outputs": [
    {
     "name": "stdout",
     "output_type": "stream",
     "text": [
      "['SCRMCTRL', 'PPCSWGT', 'SEQNUM', 'SEX', 'AGE', 'INTTYPE', 'NONINT', 'HISP', 'MODE', 'PSSTRATA', 'SECUCODE', 'INCOME', 'V10A', 'V10B', 'V10C', 'V10D', 'V10E', 'V10F', 'V10G', 'V10H', 'V10I', 'V10J', 'V10K', 'V10L', 'V10M', 'V10N', 'V22A', 'V22B', 'V22C', 'V22D', 'V22E', 'V22F', 'V22G', 'V22H', 'V22I', 'V22J', 'V22K', 'V22L', 'V22M', 'V22N', 'V22O', 'V22P', 'V23A', 'V23B', 'V23C', 'V23D', 'V23E', 'V23F', 'V23G', 'V23H', 'V23I', 'V23J', 'V23K', 'V23L', 'V23M', 'V23N', 'V23O', 'V23P', 'V23Q', 'V23R', 'V23S', 'V1', 'V23T', 'V23U', 'V23V', 'V23W', 'V23X', 'V23Y', 'V23Z', 'V24A', 'V24B', 'V24C', 'V24J', 'V24D', 'V24E', 'V24F', 'V24G', 'V24H', 'V24I', 'CHECK_ITEM_B', 'CHECK_ITEM_B1A', 'CHECK_ITEM_B1B', 'CHECK_ITEM_B1C', 'CHECK_ITEM_B1D', 'CHECK_ITEM_B1E', 'CHECK_ITEM_B1F', 'CHECK_ITEM_B1G', 'CHECK_ITEM_B1H', 'CHECK_ITEM_B1I', 'CHECK_ITEM_B1J', 'CHECK_ITEM_B1K', 'V32', 'CHECK_ITEM_B2A', 'CHECK_ITEM_B2B', 'CHECK_ITEM_B2C', 'CHECK_ITEM_B2D', 'CHECK_ITEM_B2E', 'CHECK_ITEM_B2F', 'CHECK_ITEM_B2G', 'CHECK_ITEM_B2H', 'CHECK_ITEM_B2I', 'CHECK_ITEM_B2J', 'CHECK_ITEM_B2K', 'V33', 'V33A', 'V344', 'V345', 'V346', 'CHECK_ITEM_B3A', 'CHECK_ITEM_B3B', 'CHECK_ITEM_B3C', 'CHECK_ITEM_B3D', 'CHECK_ITEM_B3E', 'CHECK_ITEM_B3F', 'CHECK_ITEM_B3G', 'CHECK_ITEM_B3H', 'CHECK_ITEM_B3I', 'CHECK_ITEM_B3J', 'CHECK_ITEM_B3K', 'V36', 'V38', 'V34', 'V35', 'V39', 'V40', 'V41', 'V42', 'V43', 'V44', 'V45', 'V46', 'V47', 'V48', 'CHECK_ITEM_C', 'V49', 'V50', 'V51', 'V52', 'V53', 'V54', 'V62', 'V63', 'V64', 'V66', 'V205', 'V206', 'V210', 'V211', 'V212', 'V213', 'V230', 'V231', 'V214', 'V215', 'V216', 'V217', 'V218', 'V219', 'V220', 'V221', 'V222', 'V223', 'V224', 'V225', 'V226', 'V227', 'V232', 'V233', 'V234', 'V228', 'V229', 'V246', 'V247', 'V248', 'V250', 'V251', 'V65', 'V67A', 'V67', 'V68', 'V69', 'V70', 'V71', 'V72', 'V73', 'V74A', 'V74B', 'V74C', 'V74D', 'V75', 'V76', 'V77', 'V78', 'V79', 'V80', 'CHECK_ITEM_D', 'V81', 'V249', 'V321', 'V322', 'V323', 'CHECK_ITEM_E', 'V324', 'V327', 'V333', 'CHECK_ITEM_F', 'V325', 'V332', 'CHECK_ITEM_G', 'V334', 'CHECK_ITEM_H', 'V335', 'V279', 'V280', 'V281', 'V282', 'V283', 'V284', 'V285', 'V286', 'V287', 'V288', 'V291', 'V292', 'V299', 'V320', 'V320A', 'V300', 'CHECK_ITEM_I', 'V304', 'V305', 'V306', 'V307', 'V308', 'V309', 'V310', 'V311', 'V312', 'V313', 'V314', 'V315', 'V316', 'V317', 'V318', 'V319', 'V328', 'V329', 'V330', 'V337', 'V338', 'V339', 'V340', 'V341', 'V342', 'V347', 'V347A', 'V347D', 'V347E', 'V347F', 'V347G', 'V347H', 'V348', 'V349', 'V350B', 'V350C', 'CHECK_ITEM_J', 'V351A', 'V351B', 'CHECK_ITEM_K', 'V352A', 'V352B', 'V352C', 'V352D', 'V352E', 'V352F', 'CHECK_ITEM_L', 'V353']\n"
     ]
    }
   ],
   "source": [
    "features = ['AGE', 'SEX', 'INCOME', 'HISP']  # Encode categorical ones\n",
    "print(df.columns.tolist())\n",
    "df = df.loc[:, ~df.columns.duplicated()]\n"
   ]
  },
  {
   "cell_type": "code",
   "execution_count": null,
   "id": "0ea8706d-3d35-46cc-b9a8-3989efdf91e8",
   "metadata": {},
   "outputs": [],
   "source": [
    "import pandas as pd\n",
    "from sklearn.model_selection import train_test_split\n",
    "from sklearn.linear_model import LogisticRegression\n",
    "from sklearn.metrics import classification_report\n",
    "\n",
    "# 1. Filter valid values from V1 (target)\n",
    "df = df[df['V1'].isin([1, 2])]  # 1 = Yes, 2 = No\n",
    "\n",
    "# 2. Rename V1 to meaningful name\n",
    "df = df.rename(columns={'V1': 'police_proper_behavior'})\n",
    "\n",
    "# 3. Convert target to binary: 1 = proper behavior, 0 = not\n",
    "df['police_proper_behavior'] = df['police_proper_behavior'].map({1: 1, 2: 0})\n",
    "\n",
    "# 4. Drop rows with NA in key features\n",
    "df = df.dropna(subset=['AGE', 'SEX', 'INCOME', 'HISP', 'police_proper_behavior'])\n",
    "\n",
    "# 5. Encode categorical vars\n",
    "df = pd.get_dummies(df, columns=['SEX', 'INCOME', 'HISP'], drop_first=True)\n",
    "\n",
    "# 6. Set up features (X) and target (y)\n",
    "X = df[['AGE'] + [col for col in df.columns if col.startswith('SEX_') or col.startswith('INCOME_') or col.startswith('HISP_')]]\n",
    "y = df['police_proper_behavior']\n",
    "\n",
    "# 7. Train/test split\n",
    "X_train, X_test, y_train, y_test = train_test_split(X, y, test_size=0.2, random_state=42)\n",
    "\n",
    "# 8. Train model\n",
    "model = LogisticRegression(max_iter=1000)\n",
    "model.fit(X_train, y_train)\n",
    "\n",
    "# 9. Predict + evaluate\n",
    "y_pred = model.predict(X_test)\n",
    "print(classification_report(y_test, y_pred))"
   ]
  },
  {
   "cell_type": "code",
   "execution_count": null,
   "id": "d5fabe5e-2eff-4cb7-adf3-a545cc3478a4",
   "metadata": {},
   "outputs": [],
   "source": [
    "model = LogisticRegression(max_iter=1000, class_weight='balanced')\n",
    "model.fit(X_train, y_train)\n"
   ]
  },
  {
   "cell_type": "code",
   "execution_count": null,
   "id": "377a59ff-5c32-4d8a-a388-7453b1f6b8b3",
   "metadata": {},
   "outputs": [],
   "source": [
    "from sklearn.linear_model import LogisticRegression\n",
    "from sklearn.model_selection import train_test_split\n",
    "from sklearn.metrics import classification_report\n",
    "\n",
    "# Split the data\n",
    "X_train, X_test, y_train, y_test = train_test_split(X, y, test_size=0.2, random_state=42)\n",
    "\n",
    "# Model with class_weight\n",
    "model = LogisticRegression(class_weight='balanced', max_iter=1000)\n",
    "model.fit(X_train, y_train)\n",
    "\n",
    "# Predict and evaluate\n",
    "y_pred = model.predict(X_test)\n",
    "print(classification_report(y_test, y_pred))"
   ]
  },
  {
   "cell_type": "code",
   "execution_count": null,
   "id": "f44db4fa-d116-4375-a1c0-021133fca3a2",
   "metadata": {},
   "outputs": [],
   "source": [
    "from sklearn.metrics import confusion_matrix, ConfusionMatrixDisplay\n",
    "\n",
    "cm = confusion_matrix(y_test, y_pred)\n",
    "ConfusionMatrixDisplay(confusion_matrix=cm).plot()"
   ]
  },
  {
   "cell_type": "code",
   "execution_count": null,
   "id": "99337ea0-2359-4491-ac48-1df7062f7225",
   "metadata": {},
   "outputs": [],
   "source": [
    "from sklearn.ensemble import RandomForestClassifier\n",
    "rf = RandomForestClassifier(class_weight='balanced', random_state=42)\n",
    "rf.fit(X_train, y_train)\n",
    "print(classification_report(y_test, rf.predict(X_test)))"
   ]
  },
  {
   "cell_type": "code",
   "execution_count": null,
   "id": "a57b3f04-41c4-4544-84fc-4f4b938d8cdc",
   "metadata": {},
   "outputs": [],
   "source": [
    "# Save to CSV\n",
    "df.to_csv(\"cleaned_police_data.csv\", index=False)"
   ]
  },
  {
   "cell_type": "code",
   "execution_count": null,
   "id": "94b3e4f7-7407-4887-901d-5c3bdd2abbb9",
   "metadata": {},
   "outputs": [],
   "source": [
    "import joblib\n",
    "\n",
    "# Save the model\n",
    "joblib.dump(model, 'police_model_logistic.pkl')\n",
    "\n",
    "# Later: Load it back\n",
    "# model = joblib.load('police_model_logistic.pkl')"
   ]
  },
  {
   "cell_type": "code",
   "execution_count": null,
   "id": "5129a5ec-fb9f-4af4-adf4-b74902607d12",
   "metadata": {},
   "outputs": [],
   "source": [
    "# Save classification report to text file\n",
    "from sklearn.metrics import classification_report\n",
    "\n",
    "with open(\"classification_report.txt\", \"w\") as f:\n",
    "    f.write(classification_report(y_test, y_pred))"
   ]
  },
  {
   "cell_type": "code",
   "execution_count": null,
   "id": "3600d5a3-2aa9-46f1-9126-d36caf081797",
   "metadata": {},
   "outputs": [],
   "source": [
    "import matplotlib.pyplot as plt\n",
    "\n",
    "cm_display = ConfusionMatrixDisplay(confusion_matrix=cm)\n",
    "cm_display.plot()\n",
    "plt.savefig(\"confusion_matrix.png\")"
   ]
  },
  {
   "cell_type": "code",
   "execution_count": null,
   "id": "87f5740a-8ab7-44bc-99b8-eb071a3e13f9",
   "metadata": {},
   "outputs": [],
   "source": []
  }
 ],
 "metadata": {
  "kernelspec": {
   "display_name": "Python 3 (ipykernel)",
   "language": "python",
   "name": "python3"
  },
  "language_info": {
   "codemirror_mode": {
    "name": "ipython",
    "version": 3
   },
   "file_extension": ".py",
   "mimetype": "text/x-python",
   "name": "python",
   "nbconvert_exporter": "python",
   "pygments_lexer": "ipython3",
   "version": "3.12.4"
  }
 },
 "nbformat": 4,
 "nbformat_minor": 5
}
